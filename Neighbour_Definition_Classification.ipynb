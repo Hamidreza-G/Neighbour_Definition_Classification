{
 "cells": [
  {
   "cell_type": "markdown",
   "id": "7d0e0746",
   "metadata": {},
   "source": [
    "## Neighbour Cell Definition using Classification"
   ]
  },
  {
   "cell_type": "code",
   "execution_count": 1,
   "id": "ac9256c2",
   "metadata": {},
   "outputs": [],
   "source": [
    "import numpy as np\n",
    "import pandas as pd\n",
    "from numpy import pi, sin, cos\n",
    "import plotly.graph_objs as go\n",
    "import plotly.express as px\n",
    "import math\n",
    "import matplotlib.pyplot as plt\n",
    "from sklearn import model_selection\n",
    "import seaborn as sns\n",
    "from sklearn import ensemble\n",
    "from sklearn import svm\n",
    "from sklearn import linear_model\n",
    "import warnings\n",
    "warnings.filterwarnings('ignore')"
   ]
  },
  {
   "cell_type": "markdown",
   "id": "3003425f",
   "metadata": {},
   "source": [
    "### Creating folds for training data"
   ]
  },
  {
   "cell_type": "code",
   "execution_count": 2,
   "id": "20abc9ff",
   "metadata": {},
   "outputs": [],
   "source": [
    "# Read training data\n",
    "df = pd.read_excel(\"Neighbour_train.xlsx\")#, dtype={\"Sector_ID\": str})\n",
    "\n",
    "# we create a new column called kfold and fill it with -1\n",
    "df[\"kfold\"] = -1\n",
    "\n",
    "# the next step is to randomize the rows of the data\n",
    "df = df.sample(frac=1).reset_index(drop=True)\n",
    "\n",
    "# fetch labels\n",
    "y = df.Target.values\n",
    "\n",
    "# initiate the kfold class from model_selection module\n",
    "# as shown in below bar chart the number of labels is not equal, therefore StratifiedKFold cross validation is used\n",
    "kf = model_selection.StratifiedKFold(n_splits=5)\n",
    "\n",
    "# fill the new kfold column\n",
    "for f, (t_, v_) in enumerate(kf.split(X=df, y=y)):\n",
    "    df.loc[v_, 'kfold'] = f\n",
    "\n",
    "# save the new csv with kfold column\n",
    "df.to_excel(\"Neighbour_train_folds.xlsx\", index=False)"
   ]
  },
  {
   "cell_type": "code",
   "execution_count": 3,
   "id": "2a513b4f",
   "metadata": {
    "scrolled": false
   },
   "outputs": [
    {
     "data": {
      "text/html": [
       "<div>\n",
       "<style scoped>\n",
       "    .dataframe tbody tr th:only-of-type {\n",
       "        vertical-align: middle;\n",
       "    }\n",
       "\n",
       "    .dataframe tbody tr th {\n",
       "        vertical-align: top;\n",
       "    }\n",
       "\n",
       "    .dataframe thead th {\n",
       "        text-align: right;\n",
       "    }\n",
       "</style>\n",
       "<table border=\"1\" class=\"dataframe\">\n",
       "  <thead>\n",
       "    <tr style=\"text-align: right;\">\n",
       "      <th></th>\n",
       "      <th>Relation</th>\n",
       "      <th>Source</th>\n",
       "      <th>Neighbour</th>\n",
       "      <th>Latitude_S</th>\n",
       "      <th>Longitude_S</th>\n",
       "      <th>Latitude_N</th>\n",
       "      <th>Longitude_N</th>\n",
       "      <th>TA_S</th>\n",
       "      <th>TA_N</th>\n",
       "      <th>Azimuth_Diff</th>\n",
       "      <th>Latitude_Diff</th>\n",
       "      <th>Longitude_Diff</th>\n",
       "      <th>Distance(m)</th>\n",
       "      <th>Overlap_Ratio</th>\n",
       "      <th>Sector_Type_S</th>\n",
       "      <th>Sector_Type_N</th>\n",
       "      <th>Target</th>\n",
       "      <th>kfold</th>\n",
       "    </tr>\n",
       "  </thead>\n",
       "  <tbody>\n",
       "    <tr>\n",
       "      <th>0</th>\n",
       "      <td>(QM0210C,QM0291A)</td>\n",
       "      <td>QM0210C</td>\n",
       "      <td>QM0291A</td>\n",
       "      <td>34.81594</td>\n",
       "      <td>50.71731</td>\n",
       "      <td>34.670920</td>\n",
       "      <td>50.825600</td>\n",
       "      <td>27500</td>\n",
       "      <td>1375</td>\n",
       "      <td>180</td>\n",
       "      <td>0.145020</td>\n",
       "      <td>-0.108290</td>\n",
       "      <td>18898.549183</td>\n",
       "      <td>0.000000</td>\n",
       "      <td>0</td>\n",
       "      <td>3</td>\n",
       "      <td>0</td>\n",
       "      <td>0</td>\n",
       "    </tr>\n",
       "    <tr>\n",
       "      <th>1</th>\n",
       "      <td>(QM0005B,QM0149C)</td>\n",
       "      <td>QM0005B</td>\n",
       "      <td>QM0149C</td>\n",
       "      <td>34.65963</td>\n",
       "      <td>50.69642</td>\n",
       "      <td>34.659150</td>\n",
       "      <td>50.882310</td>\n",
       "      <td>31075</td>\n",
       "      <td>825</td>\n",
       "      <td>10</td>\n",
       "      <td>0.000480</td>\n",
       "      <td>-0.185890</td>\n",
       "      <td>17039.656729</td>\n",
       "      <td>0.000000</td>\n",
       "      <td>0</td>\n",
       "      <td>1</td>\n",
       "      <td>0</td>\n",
       "      <td>0</td>\n",
       "    </tr>\n",
       "    <tr>\n",
       "      <th>2</th>\n",
       "      <td>(QM0210B,QM0093A)</td>\n",
       "      <td>QM0210B</td>\n",
       "      <td>QM0093A</td>\n",
       "      <td>34.81594</td>\n",
       "      <td>50.71731</td>\n",
       "      <td>35.135470</td>\n",
       "      <td>50.966680</td>\n",
       "      <td>14025</td>\n",
       "      <td>31075</td>\n",
       "      <td>10</td>\n",
       "      <td>-0.319530</td>\n",
       "      <td>-0.249370</td>\n",
       "      <td>42132.373560</td>\n",
       "      <td>0.000000</td>\n",
       "      <td>0</td>\n",
       "      <td>0</td>\n",
       "      <td>0</td>\n",
       "      <td>0</td>\n",
       "    </tr>\n",
       "    <tr>\n",
       "      <th>3</th>\n",
       "      <td>(QM0001B,QM0102A)</td>\n",
       "      <td>QM0001B</td>\n",
       "      <td>QM0102A</td>\n",
       "      <td>34.62224</td>\n",
       "      <td>50.90899</td>\n",
       "      <td>34.627290</td>\n",
       "      <td>50.901440</td>\n",
       "      <td>1375</td>\n",
       "      <td>1375</td>\n",
       "      <td>90</td>\n",
       "      <td>-0.005050</td>\n",
       "      <td>0.007550</td>\n",
       "      <td>890.617584</td>\n",
       "      <td>11.724262</td>\n",
       "      <td>1</td>\n",
       "      <td>1</td>\n",
       "      <td>1</td>\n",
       "      <td>0</td>\n",
       "    </tr>\n",
       "    <tr>\n",
       "      <th>4</th>\n",
       "      <td>(QM0210C,QM0144C)</td>\n",
       "      <td>QM0210C</td>\n",
       "      <td>QM0144C</td>\n",
       "      <td>34.81594</td>\n",
       "      <td>50.71731</td>\n",
       "      <td>34.543564</td>\n",
       "      <td>50.278942</td>\n",
       "      <td>27500</td>\n",
       "      <td>2475</td>\n",
       "      <td>60</td>\n",
       "      <td>0.272376</td>\n",
       "      <td>0.438368</td>\n",
       "      <td>50268.001024</td>\n",
       "      <td>0.000000</td>\n",
       "      <td>0</td>\n",
       "      <td>2</td>\n",
       "      <td>0</td>\n",
       "      <td>0</td>\n",
       "    </tr>\n",
       "  </tbody>\n",
       "</table>\n",
       "</div>"
      ],
      "text/plain": [
       "            Relation   Source Neighbour  Latitude_S  Longitude_S  Latitude_N  \\\n",
       "0  (QM0210C,QM0291A)  QM0210C   QM0291A    34.81594     50.71731   34.670920   \n",
       "1  (QM0005B,QM0149C)  QM0005B   QM0149C    34.65963     50.69642   34.659150   \n",
       "2  (QM0210B,QM0093A)  QM0210B   QM0093A    34.81594     50.71731   35.135470   \n",
       "3  (QM0001B,QM0102A)  QM0001B   QM0102A    34.62224     50.90899   34.627290   \n",
       "4  (QM0210C,QM0144C)  QM0210C   QM0144C    34.81594     50.71731   34.543564   \n",
       "\n",
       "   Longitude_N   TA_S   TA_N  Azimuth_Diff  Latitude_Diff  Longitude_Diff  \\\n",
       "0    50.825600  27500   1375           180       0.145020       -0.108290   \n",
       "1    50.882310  31075    825            10       0.000480       -0.185890   \n",
       "2    50.966680  14025  31075            10      -0.319530       -0.249370   \n",
       "3    50.901440   1375   1375            90      -0.005050        0.007550   \n",
       "4    50.278942  27500   2475            60       0.272376        0.438368   \n",
       "\n",
       "    Distance(m)  Overlap_Ratio  Sector_Type_S  Sector_Type_N  Target  kfold  \n",
       "0  18898.549183       0.000000              0              3       0      0  \n",
       "1  17039.656729       0.000000              0              1       0      0  \n",
       "2  42132.373560       0.000000              0              0       0      0  \n",
       "3    890.617584      11.724262              1              1       1      0  \n",
       "4  50268.001024       0.000000              0              2       0      0  "
      ]
     },
     "execution_count": 3,
     "metadata": {},
     "output_type": "execute_result"
    }
   ],
   "source": [
    "df.head()"
   ]
  },
  {
   "cell_type": "code",
   "execution_count": 4,
   "id": "fde3fbb3",
   "metadata": {},
   "outputs": [
    {
     "data": {
      "text/plain": [
       "Index(['Relation', 'Source', 'Neighbour', 'Latitude_S', 'Longitude_S',\n",
       "       'Latitude_N', 'Longitude_N', 'TA_S', 'TA_N', 'Azimuth_Diff',\n",
       "       'Latitude_Diff', 'Longitude_Diff', 'Distance(m)', 'Overlap_Ratio',\n",
       "       'Sector_Type_S', 'Sector_Type_N', 'Target', 'kfold'],\n",
       "      dtype='object')"
      ]
     },
     "execution_count": 4,
     "metadata": {},
     "output_type": "execute_result"
    }
   ],
   "source": [
    "df.columns"
   ]
  },
  {
   "cell_type": "markdown",
   "id": "b5810a7f",
   "metadata": {},
   "source": [
    "### Distribution of Labels"
   ]
  },
  {
   "cell_type": "code",
   "execution_count": 5,
   "id": "3591bd1e",
   "metadata": {
    "scrolled": true
   },
   "outputs": [
    {
     "data": {
      "image/png": "[encoded data removed]",
      "text/plain": [
       "<Figure size 432x288 with 1 Axes>"
      ]
     },
     "metadata": {
      "needs_background": "light"
     },
     "output_type": "display_data"
    }
   ],
   "source": [
    "b = sns.countplot(x='Target', data=df)#,\n",
    "                 #order=['Rural','City Capacity','City Coverage','Umbrella'])\n",
    "b.set_title('Train Data Labels', fontsize=18)\n",
    "b.set_ylabel(\"Count\", fontsize=13)\n",
    "b.set_xlabel(\"0: Not a Neighbour and 1: Neighbour\");"
   ]
  },
  {
   "cell_type": "code",
   "execution_count": 6,
   "id": "b82b8413",
   "metadata": {
    "scrolled": true
   },
   "outputs": [
    {
     "data": {
      "text/plain": [
       "0    1340\n",
       "1    1340\n",
       "2    1340\n",
       "3    1340\n",
       "4    1339\n",
       "Name: kfold, dtype: int64"
      ]
     },
     "execution_count": 6,
     "metadata": {},
     "output_type": "execute_result"
    }
   ],
   "source": [
    "# number of samples in each fold\n",
    "df.kfold.value_counts()"
   ]
  },
  {
   "cell_type": "code",
   "execution_count": 7,
   "id": "9bd51b5b",
   "metadata": {
    "scrolled": false
   },
   "outputs": [
    {
     "data": {
      "text/html": [
       "<div>\n",
       "<style scoped>\n",
       "    .dataframe tbody tr th:only-of-type {\n",
       "        vertical-align: middle;\n",
       "    }\n",
       "\n",
       "    .dataframe tbody tr th {\n",
       "        vertical-align: top;\n",
       "    }\n",
       "\n",
       "    .dataframe thead th {\n",
       "        text-align: right;\n",
       "    }\n",
       "</style>\n",
       "<table border=\"1\" class=\"dataframe\">\n",
       "  <thead>\n",
       "    <tr style=\"text-align: right;\">\n",
       "      <th></th>\n",
       "      <th></th>\n",
       "      <th>Relation</th>\n",
       "    </tr>\n",
       "    <tr>\n",
       "      <th>kfold</th>\n",
       "      <th>Target</th>\n",
       "      <th></th>\n",
       "    </tr>\n",
       "  </thead>\n",
       "  <tbody>\n",
       "    <tr>\n",
       "      <th rowspan=\"2\" valign=\"top\">0</th>\n",
       "      <th>0</th>\n",
       "      <td>1318</td>\n",
       "    </tr>\n",
       "    <tr>\n",
       "      <th>1</th>\n",
       "      <td>22</td>\n",
       "    </tr>\n",
       "    <tr>\n",
       "      <th rowspan=\"2\" valign=\"top\">1</th>\n",
       "      <th>0</th>\n",
       "      <td>1318</td>\n",
       "    </tr>\n",
       "    <tr>\n",
       "      <th>1</th>\n",
       "      <td>22</td>\n",
       "    </tr>\n",
       "    <tr>\n",
       "      <th rowspan=\"2\" valign=\"top\">2</th>\n",
       "      <th>0</th>\n",
       "      <td>1318</td>\n",
       "    </tr>\n",
       "    <tr>\n",
       "      <th>1</th>\n",
       "      <td>22</td>\n",
       "    </tr>\n",
       "    <tr>\n",
       "      <th rowspan=\"2\" valign=\"top\">3</th>\n",
       "      <th>0</th>\n",
       "      <td>1318</td>\n",
       "    </tr>\n",
       "    <tr>\n",
       "      <th>1</th>\n",
       "      <td>22</td>\n",
       "    </tr>\n",
       "    <tr>\n",
       "      <th rowspan=\"2\" valign=\"top\">4</th>\n",
       "      <th>0</th>\n",
       "      <td>1318</td>\n",
       "    </tr>\n",
       "    <tr>\n",
       "      <th>1</th>\n",
       "      <td>21</td>\n",
       "    </tr>\n",
       "  </tbody>\n",
       "</table>\n",
       "</div>"
      ],
      "text/plain": [
       "              Relation\n",
       "kfold Target          \n",
       "0     0           1318\n",
       "      1             22\n",
       "1     0           1318\n",
       "      1             22\n",
       "2     0           1318\n",
       "      1             22\n",
       "3     0           1318\n",
       "      1             22\n",
       "4     0           1318\n",
       "      1             21"
      ]
     },
     "execution_count": 7,
     "metadata": {},
     "output_type": "execute_result"
    }
   ],
   "source": [
    "# number of categories in each fold\n",
    "df[['kfold','Target','Relation']].groupby(by=['kfold','Target']).count()"
   ]
  },
  {
   "cell_type": "code",
   "execution_count": 8,
   "id": "b6fbe335",
   "metadata": {},
   "outputs": [],
   "source": [
    "import xgboost as xgb\n",
    "from sklearn import metrics\n",
    "from sklearn import preprocessing\n",
    "from sklearn.metrics import accuracy_score"
   ]
  },
  {
   "cell_type": "code",
   "execution_count": 9,
   "id": "3b89c03a",
   "metadata": {},
   "outputs": [],
   "source": [
    "# load the full training data with folds\n",
    "df = pd.read_excel(\"Neighbour_train_folds.xlsx\")"
   ]
  },
  {
   "cell_type": "markdown",
   "id": "d6e1be93",
   "metadata": {},
   "source": [
    "### Feature Engineering"
   ]
  },
  {
   "cell_type": "code",
   "execution_count": 10,
   "id": "6b4022a3",
   "metadata": {
    "scrolled": false
   },
   "outputs": [
    {
     "data": {
      "text/plain": [
       "['TA_S',\n",
       " 'TA_N',\n",
       " 'Azimuth_Diff',\n",
       " 'Latitude_Diff',\n",
       " 'Longitude_Diff',\n",
       " 'Distance(m)',\n",
       " 'Overlap_Ratio',\n",
       " 'Sector_Type_S',\n",
       " 'Sector_Type_N']"
      ]
     },
     "execution_count": 10,
     "metadata": {},
     "output_type": "execute_result"
    }
   ],
   "source": [
    "# making a feature list\n",
    "features = [\n",
    "    f for f in df.columns if f not in ('Relation', 'Source', 'Neighbour', 'Latitude_S', 'Longitude_S',\n",
    "                                       'Latitude_N', 'Longitude_N', 'Target', 'kfold')\n",
    "]\n",
    "\n",
    "features"
   ]
  },
  {
   "cell_type": "markdown",
   "id": "60963de1",
   "metadata": {},
   "source": [
    "### Model evaluation and selection"
   ]
  },
  {
   "cell_type": "code",
   "execution_count": 11,
   "id": "bffcd167",
   "metadata": {},
   "outputs": [],
   "source": [
    "# initiating classification models\n",
    "from sklearn.ensemble import GradientBoostingClassifier\n",
    "\n",
    "models=[\n",
    "    ['Linear SVM', svm.SVC(kernel='linear')],\n",
    "    ['Logistic Regression', linear_model.LogisticRegression()],\n",
    "    ['Random Forest', ensemble.RandomForestClassifier(n_jobs=-1)],\n",
    "    ['XGBoost', xgb.XGBClassifier(n_jobs=-1,max_depth=11,n_estimators=250, verbosity = 0)], #n_jobs=-1,max_depth=11,n_estimators=250, verbosity = 0)], # **xgb_best_params\n",
    "]"
   ]
  },
  {
   "cell_type": "markdown",
   "id": "97347bd6",
   "metadata": {},
   "source": [
    "### Hyper-parameter Optimization"
   ]
  },
  {
   "cell_type": "code",
   "execution_count": 12,
   "id": "f68f6ab2",
   "metadata": {
    "scrolled": false
   },
   "outputs": [
    {
     "name": "stderr",
     "output_type": "stream",
     "text": [
      "\u001b[32m[I 2022-12-17 14:30:02,895]\u001b[0m A new study created in memory with name: no-name-d4ecb015-6988-4aaf-911c-617701c1e0f1\u001b[0m\n"
     ]
    },
    {
     "name": "stdout",
     "output_type": "stream",
     "text": [
      "[14:30:02] WARNING: C:/Users/Administrator/workspace/xgboost-win64_release_1.5.1/src/learner.cc:1115: Starting in XGBoost 1.3.0, the default evaluation metric used with the objective 'binary:logistic' was changed from 'error' to 'logloss'. Explicitly set eval_metric if you'd like to restore the old behavior.\n"
     ]
    },
    {
     "name": "stderr",
     "output_type": "stream",
     "text": [
      "\u001b[32m[I 2022-12-17 14:30:11,880]\u001b[0m Trial 0 finished with value: 0.9888059701492538 and parameters: {'max_depth': 5, 'learning_rate': 0.001144002226678979, 'n_estimators': 2861, 'min_child_weight': 2, 'colsample_bytree': 0.39034933143346645, 'subsample': 0.21112120298082282, 'reg_alpha': 0.029962769314771535, 'reg_lambda': 0.010012633851047665}. Best is trial 0 with value: 0.9888059701492538.\u001b[0m\n"
     ]
    },
    {
     "name": "stdout",
     "output_type": "stream",
     "text": [
      "0.9888059701492538\n",
      "[14:30:11] WARNING: C:/Users/Administrator/workspace/xgboost-win64_release_1.5.1/src/learner.cc:1115: Starting in XGBoost 1.3.0, the default evaluation metric used with the objective 'binary:logistic' was changed from 'error' to 'logloss'. Explicitly set eval_metric if you'd like to restore the old behavior.\n"
     ]
    },
    {
     "name": "stderr",
     "output_type": "stream",
     "text": [
      "\u001b[32m[I 2022-12-17 14:30:24,433]\u001b[0m Trial 1 finished with value: 0.9835820895522388 and parameters: {'max_depth': 10, 'learning_rate': 0.00011278716690018427, 'n_estimators': 6163, 'min_child_weight': 5, 'colsample_bytree': 0.30562129750159484, 'subsample': 0.7927752688368364, 'reg_alpha': 0.2121457071300744, 'reg_lambda': 48.892132287053144}. Best is trial 0 with value: 0.9888059701492538.\u001b[0m\n"
     ]
    },
    {
     "name": "stdout",
     "output_type": "stream",
     "text": [
      "0.9835820895522388\n",
      "[14:30:24] WARNING: C:/Users/Administrator/workspace/xgboost-win64_release_1.5.1/src/learner.cc:1115: Starting in XGBoost 1.3.0, the default evaluation metric used with the objective 'binary:logistic' was changed from 'error' to 'logloss'. Explicitly set eval_metric if you'd like to restore the old behavior.\n"
     ]
    },
    {
     "name": "stderr",
     "output_type": "stream",
     "text": [
      "\u001b[32m[I 2022-12-17 14:30:42,427]\u001b[0m Trial 2 finished with value: 0.9932835820895523 and parameters: {'max_depth': 9, 'learning_rate': 0.0007997504138680131, 'n_estimators': 4675, 'min_child_weight': 3, 'colsample_bytree': 0.6136667577377195, 'subsample': 0.8586798337613348, 'reg_alpha': 0.004836793667171623, 'reg_lambda': 0.46707896299706564}. Best is trial 2 with value: 0.9932835820895523.\u001b[0m\n"
     ]
    },
    {
     "name": "stdout",
     "output_type": "stream",
     "text": [
      "0.9932835820895523\n",
      "[14:30:42] WARNING: C:/Users/Administrator/workspace/xgboost-win64_release_1.5.1/src/learner.cc:1115: Starting in XGBoost 1.3.0, the default evaluation metric used with the objective 'binary:logistic' was changed from 'error' to 'logloss'. Explicitly set eval_metric if you'd like to restore the old behavior.\n"
     ]
    },
    {
     "name": "stderr",
     "output_type": "stream",
     "text": [
      "\u001b[32m[I 2022-12-17 14:31:03,066]\u001b[0m Trial 3 finished with value: 0.9940298507462687 and parameters: {'max_depth': 10, 'learning_rate': 0.0008020502986575688, 'n_estimators': 4327, 'min_child_weight': 1, 'colsample_bytree': 0.9018518529871027, 'subsample': 0.5378058342490113, 'reg_alpha': 0.0001509590775546864, 'reg_lambda': 0.00016823496859873503}. Best is trial 3 with value: 0.9940298507462687.\u001b[0m\n"
     ]
    },
    {
     "name": "stdout",
     "output_type": "stream",
     "text": [
      "0.9940298507462687\n",
      "[14:31:03] WARNING: C:/Users/Administrator/workspace/xgboost-win64_release_1.5.1/src/learner.cc:1115: Starting in XGBoost 1.3.0, the default evaluation metric used with the objective 'binary:logistic' was changed from 'error' to 'logloss'. Explicitly set eval_metric if you'd like to restore the old behavior.\n"
     ]
    },
    {
     "name": "stderr",
     "output_type": "stream",
     "text": [
      "\u001b[32m[I 2022-12-17 14:31:06,945]\u001b[0m Trial 4 finished with value: 0.9917910447761195 and parameters: {'max_depth': 5, 'learning_rate': 0.08583530749972239, 'n_estimators': 1717, 'min_child_weight': 8, 'colsample_bytree': 0.5498220497922023, 'subsample': 0.7838825968004846, 'reg_alpha': 0.024705691710104994, 'reg_lambda': 0.6763298014269367}. Best is trial 3 with value: 0.9940298507462687.\u001b[0m\n"
     ]
    },
    {
     "name": "stdout",
     "output_type": "stream",
     "text": [
      "0.9917910447761195\n"
     ]
    }
   ],
   "source": [
    "import optuna\n",
    "from tqdm.auto import tqdm\n",
    "\n",
    "fold = 0\n",
    "\n",
    "df_train = df[df.kfold != fold].reset_index(drop=True)\n",
    "\n",
    "# get validation data using folds\n",
    "df_valid = df[df.kfold == fold].reset_index(drop=True)\n",
    "# this is for checking accuracy for each individual label\n",
    "#df_valid = df_valid.loc[df_valid['Target'] == 3]\n",
    "\n",
    "# get training data\n",
    "x_train = df_train[features].values\n",
    "\n",
    "# get validation data\n",
    "x_valid = df_valid[features].values\n",
    "\n",
    "y_train=df_train.Target.values\n",
    "\n",
    "def objective(trial):\n",
    "    xgb_params = dict(\n",
    "        max_depth=trial.suggest_int(\"max_depth\", 2, 10),\n",
    "        learning_rate=trial.suggest_float(\"learning_rate\", 1e-4, 1e-1, log=True),\n",
    "        n_estimators=trial.suggest_int(\"n_estimators\", 1000, 8000),\n",
    "        min_child_weight=trial.suggest_int(\"min_child_weight\", 1, 10),\n",
    "        colsample_bytree=trial.suggest_float(\"colsample_bytree\", 0.2, 1.0),\n",
    "        subsample=trial.suggest_float(\"subsample\", 0.2, 1.0),\n",
    "        reg_alpha=trial.suggest_float(\"reg_alpha\", 1e-4, 1e2, log=True),\n",
    "        reg_lambda=trial.suggest_float(\"reg_lambda\", 1e-4, 1e2, log=True),\n",
    "    )\n",
    "    xgbc = xgb.XGBClassifier(**xgb_params)\n",
    "    \n",
    "    #Train the model using the training sets\n",
    "    xgbc.fit(x_train, y_train)\n",
    "    # print(model.feature_importances_)\n",
    "\n",
    "    #Predict the response for test dataset\n",
    "    y_pred = xgbc.predict(x_valid)\n",
    "    print(metrics.accuracy_score(df_valid.Target.values, y_pred))\n",
    "    \n",
    "    return metrics.accuracy_score(df_valid.Target.values, y_pred)\n",
    "\n",
    "\n",
    "study = optuna.create_study(direction=\"maximize\")\n",
    "study.optimize(objective, n_trials=5)\n",
    "xgb_best_params = study.best_params"
   ]
  },
  {
   "cell_type": "markdown",
   "id": "b4f2c961",
   "metadata": {},
   "source": [
    "### Test data prediction"
   ]
  },
  {
   "cell_type": "code",
   "execution_count": 19,
   "id": "cfb3c6ef",
   "metadata": {
    "scrolled": true
   },
   "outputs": [],
   "source": [
    "# Evaluating the best model on test set\n",
    "\n",
    "# load the full training data with folds\n",
    "df_train = pd.read_excel(\"Neighbour_train_folds.xlsx\")\n",
    "df_test = pd.read_excel(\"Neighbour_test.xlsx\")\n",
    "\n",
    "y_train=df_train.Target.values\n",
    "\n",
    "x_train = df_train[features]\n",
    "x_test = df_test[features]\n",
    "# n_jobs=-1,max_depth=11,n_estimators=250, verbosity = 0\n",
    "best_classsifier=xgb.XGBClassifier(**xgb_best_params)\n",
    "y_pred = best_classsifier.fit(x_train,y_train).predict(x_test)"
   ]
  },
  {
   "cell_type": "markdown",
   "id": "2011f696",
   "metadata": {},
   "source": [
    "### Feature importance"
   ]
  },
  {
   "cell_type": "code",
   "execution_count": 20,
   "id": "f1586e82",
   "metadata": {},
   "outputs": [
    {
     "data": {
      "text/plain": [
       "<AxesSubplot:>"
      ]
     },
     "execution_count": 20,
     "metadata": {},
     "output_type": "execute_result"
    },
    {
     "data": {
      "image/png": "[encoded data removed]",
      "text/plain": [
       "<Figure size 432x288 with 1 Axes>"
      ]
     },
     "metadata": {
      "needs_background": "light"
     },
     "output_type": "display_data"
    }
   ],
   "source": [
    "%matplotlib inline \n",
    "(pd.Series(best_classsifier.feature_importances_, index=features)\n",
    "   .nlargest(9)\n",
    "   .plot(kind='barh'))"
   ]
  },
  {
   "cell_type": "code",
   "execution_count": 22,
   "id": "65d14e2b",
   "metadata": {
    "scrolled": false
   },
   "outputs": [
    {
     "data": {
      "text/html": [
       "<div>\n",
       "<style scoped>\n",
       "    .dataframe tbody tr th:only-of-type {\n",
       "        vertical-align: middle;\n",
       "    }\n",
       "\n",
       "    .dataframe tbody tr th {\n",
       "        vertical-align: top;\n",
       "    }\n",
       "\n",
       "    .dataframe thead th {\n",
       "        text-align: right;\n",
       "    }\n",
       "</style>\n",
       "<table border=\"1\" class=\"dataframe\">\n",
       "  <thead>\n",
       "    <tr style=\"text-align: right;\">\n",
       "      <th></th>\n",
       "      <th>Source</th>\n",
       "      <th>Neighbour</th>\n",
       "      <th>TA_S</th>\n",
       "      <th>TA_N</th>\n",
       "      <th>Target</th>\n",
       "    </tr>\n",
       "  </thead>\n",
       "  <tbody>\n",
       "    <tr>\n",
       "      <th>0</th>\n",
       "      <td>QM0002A</td>\n",
       "      <td>QM0002A</td>\n",
       "      <td>1375</td>\n",
       "      <td>1375</td>\n",
       "      <td>1</td>\n",
       "    </tr>\n",
       "    <tr>\n",
       "      <th>1</th>\n",
       "      <td>QM0002A</td>\n",
       "      <td>QM0002B</td>\n",
       "      <td>1375</td>\n",
       "      <td>1375</td>\n",
       "      <td>1</td>\n",
       "    </tr>\n",
       "    <tr>\n",
       "      <th>2</th>\n",
       "      <td>QM0002A</td>\n",
       "      <td>QM0002C</td>\n",
       "      <td>1375</td>\n",
       "      <td>825</td>\n",
       "      <td>1</td>\n",
       "    </tr>\n",
       "    <tr>\n",
       "      <th>38</th>\n",
       "      <td>QM0002A</td>\n",
       "      <td>QM0241A</td>\n",
       "      <td>1375</td>\n",
       "      <td>1375</td>\n",
       "      <td>1</td>\n",
       "    </tr>\n",
       "    <tr>\n",
       "      <th>40</th>\n",
       "      <td>QM0002A</td>\n",
       "      <td>QM0223B</td>\n",
       "      <td>1375</td>\n",
       "      <td>1375</td>\n",
       "      <td>1</td>\n",
       "    </tr>\n",
       "    <tr>\n",
       "      <th>46</th>\n",
       "      <td>QM0002A</td>\n",
       "      <td>QM0044C</td>\n",
       "      <td>1375</td>\n",
       "      <td>825</td>\n",
       "      <td>1</td>\n",
       "    </tr>\n",
       "    <tr>\n",
       "      <th>53</th>\n",
       "      <td>QM0002A</td>\n",
       "      <td>QM0090B</td>\n",
       "      <td>1375</td>\n",
       "      <td>1375</td>\n",
       "      <td>1</td>\n",
       "    </tr>\n",
       "    <tr>\n",
       "      <th>61</th>\n",
       "      <td>QM0002A</td>\n",
       "      <td>QM0200B</td>\n",
       "      <td>1375</td>\n",
       "      <td>1925</td>\n",
       "      <td>1</td>\n",
       "    </tr>\n",
       "    <tr>\n",
       "      <th>109</th>\n",
       "      <td>QM0002A</td>\n",
       "      <td>QM0217C</td>\n",
       "      <td>1375</td>\n",
       "      <td>1375</td>\n",
       "      <td>1</td>\n",
       "    </tr>\n",
       "    <tr>\n",
       "      <th>126</th>\n",
       "      <td>QM0002A</td>\n",
       "      <td>QM0040C</td>\n",
       "      <td>1375</td>\n",
       "      <td>1375</td>\n",
       "      <td>1</td>\n",
       "    </tr>\n",
       "    <tr>\n",
       "      <th>129</th>\n",
       "      <td>QM0002A</td>\n",
       "      <td>QM0315C</td>\n",
       "      <td>1375</td>\n",
       "      <td>1375</td>\n",
       "      <td>1</td>\n",
       "    </tr>\n",
       "    <tr>\n",
       "      <th>153</th>\n",
       "      <td>QM0002A</td>\n",
       "      <td>QM0055B</td>\n",
       "      <td>1375</td>\n",
       "      <td>1925</td>\n",
       "      <td>1</td>\n",
       "    </tr>\n",
       "    <tr>\n",
       "      <th>155</th>\n",
       "      <td>QM0002A</td>\n",
       "      <td>QM0205C</td>\n",
       "      <td>1375</td>\n",
       "      <td>1375</td>\n",
       "      <td>1</td>\n",
       "    </tr>\n",
       "  </tbody>\n",
       "</table>\n",
       "</div>"
      ],
      "text/plain": [
       "      Source Neighbour  TA_S  TA_N  Target\n",
       "0    QM0002A   QM0002A  1375  1375       1\n",
       "1    QM0002A   QM0002B  1375  1375       1\n",
       "2    QM0002A   QM0002C  1375   825       1\n",
       "38   QM0002A   QM0241A  1375  1375       1\n",
       "40   QM0002A   QM0223B  1375  1375       1\n",
       "46   QM0002A   QM0044C  1375   825       1\n",
       "53   QM0002A   QM0090B  1375  1375       1\n",
       "61   QM0002A   QM0200B  1375  1925       1\n",
       "109  QM0002A   QM0217C  1375  1375       1\n",
       "126  QM0002A   QM0040C  1375  1375       1\n",
       "129  QM0002A   QM0315C  1375  1375       1\n",
       "153  QM0002A   QM0055B  1375  1925       1\n",
       "155  QM0002A   QM0205C  1375  1375       1"
      ]
     },
     "execution_count": 22,
     "metadata": {},
     "output_type": "execute_result"
    }
   ],
   "source": [
    "result = pd.DataFrame({\n",
    "        \"Source\": df_test[\"Source\"],\"Neighbour\": df_test[\"Neighbour\"],\"TA_S\": df_test[\"TA_S\"],\"TA_N\": df_test[\"TA_N\"]\n",
    "        ,\"Target\": y_pred\n",
    "    })\n",
    "\n",
    "result = result[result['Target'] > 0]\n",
    "result.to_excel('prediction_result.xlsx', index=False)\n",
    "result[result['Source'] == 'QM0002A']"
   ]
  },
  {
   "cell_type": "code",
   "execution_count": 23,
   "id": "043cdfbe",
   "metadata": {},
   "outputs": [],
   "source": [
    "# TA / S2S dist. ratio to be used as a new feature?"
   ]
  }
 ],
 "metadata": {
  "kernelspec": {
   "display_name": "Python 3",
   "language": "python",
   "name": "python3"
  },
  "language_info": {
   "codemirror_mode": {
    "name": "ipython",
    "version": 3
   },
   "file_extension": ".py",
   "mimetype": "text/x-python",
   "name": "python",
   "nbconvert_exporter": "python",
   "pygments_lexer": "ipython3",
   "version": "3.8.8"
  },
  "vscode": {
   "interpreter": {
    "hash": "01121e1630c19f8c936edf0ba0fdeabe277dcaf2cfab9f1ceb772817adb87393"
   }
  }
 },
 "nbformat": 4,
 "nbformat_minor": 5
}
